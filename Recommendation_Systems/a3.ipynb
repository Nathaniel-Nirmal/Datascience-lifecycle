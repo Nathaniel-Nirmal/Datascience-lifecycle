{
 "cells": [
  {
   "cell_type": "markdown",
   "metadata": {},
   "source": [
    "**Part A: User-user recommender system**"
   ]
  },
  {
   "cell_type": "code",
   "execution_count": 1,
   "metadata": {},
   "outputs": [
    {
     "name": "stdout",
     "output_type": "stream",
     "text": [
      "Top 5 recommended businesses for Alex are:\n",
      "Papi's Cuban & Caribbean Grill: 43.040\n",
      "Seven Lamps: 33.598\n",
      "Loca Luna: 33.263\n",
      "Farm Burger: 32.783\n",
      "Piece of Cake: 12.626\n"
     ]
    }
   ],
   "source": [
    "import pandas as pd\n",
    "import numpy as np\n",
    "from sklearn.metrics.pairwise import cosine_similarity\n",
    "\n",
    "user_business_path = 'data/user-business.csv'\n",
    "business_path = 'data/business.csv'\n",
    "\n",
    "user_business_df = pd.read_csv(user_business_path, header=None)\n",
    "business_names = pd.read_csv(business_path, header=None)\n",
    "\n",
    "alex_ratings = user_business_df.iloc[3, 100:].values \n",
    "other_users = user_business_df.drop(3, axis=0)\n",
    "\n",
    "cos_sim = cosine_similarity(other_users.iloc[:, 100:], [alex_ratings])\n",
    "rAlex_b = np.dot(cos_sim.T, other_users.iloc[:, :100]).flatten()\n",
    "\n",
    "top_indices = np.argsort(rAlex_b)[::-1][:5]\n",
    "top_scores = rAlex_b[top_indices] \n",
    "\n",
    "top_businesses = business_names.iloc[top_indices].values.flatten()\n",
    "\n",
    "print(\"Top 5 recommended businesses for Alex are:\")\n",
    "for business, score in zip(top_businesses, top_scores):\n",
    "    print(f\"{business}: {score:.3f}\")"
   ]
  },
  {
   "cell_type": "markdown",
   "metadata": {},
   "source": [
    "Let S denote the set of the first 100 businesses (the first 100 columns of the matrix). From all the businesses in S, which are the five that have the highest similarity scores (rAlex,b) for Alex? What are their similarity scores?\n",
    "\n",
    "Answer with their similarity score:\n",
    "Papi's Cuban & Caribbean Grill: 43.040\n",
    "Seven Lamps: 33.598\n",
    "Loca Luna: 33.263\n",
    "Farm Burger: 32.783\n",
    "Piece of Cake: 12.626"
   ]
  },
  {
   "cell_type": "markdown",
   "metadata": {},
   "source": [
    "**Part B: item – item recommender system**"
   ]
  },
  {
   "cell_type": "code",
   "execution_count": 3,
   "metadata": {},
   "outputs": [
    {
     "name": "stdout",
     "output_type": "stream",
     "text": [
      "Top 5 recommended businesses for Alex based on item-item similarity are:\n",
      "Papi's Cuban & Caribbean Grill: 6.811\n",
      "Farm Burger: 6.559\n",
      "Seven Lamps: 6.440\n",
      "Loca Luna: 5.853\n",
      "Piece of Cake: 3.730\n"
     ]
    }
   ],
   "source": [
    "R = user_business_df.values\n",
    "alex_ratings = R[3, :] \n",
    "R_no_alex = np.delete(R, 3, axis=0)\n",
    "business_similarities = cosine_similarity(R_no_alex.T)\n",
    "\n",
    "rAlex_b = np.zeros(100)\n",
    "for b in range(100):\n",
    "    rAlex_b[b] = np.dot(business_similarities[b], alex_ratings * (alex_ratings > 0))\n",
    "\n",
    "top_indices = np.argsort(rAlex_b)[::-1][:5]\n",
    "top_scores = rAlex_b[top_indices] \n",
    "top_businesses = business_names.iloc[top_indices].values.flatten()\n",
    "\n",
    "print(\"Top 5 recommended businesses for Alex based on item-item similarity are:\")\n",
    "for business, score in zip(top_businesses, top_scores):\n",
    "    print(f\"{business}: {score:.3f}\")"
   ]
  },
  {
   "cell_type": "markdown",
   "metadata": {},
   "source": [
    "From all the businesses in S (first 100 businesses), which are the five that have the highest similarity scores for Alex?\n",
    "\n",
    "Answer with their similarity score:\n",
    "Papi's Cuban & Caribbean Grill: 6.811\n",
    "Farm Burger: 6.559\n",
    "Seven Lamps: 6.440\n",
    "Loca Luna: 5.853\n",
    "Piece of Cake: 3.730"
   ]
  },
  {
   "cell_type": "markdown",
   "metadata": {},
   "source": [
    "**Part C: Latent hidden model recommender system**"
   ]
  },
  {
   "cell_type": "code",
   "execution_count": 4,
   "metadata": {},
   "outputs": [
    {
     "name": "stdout",
     "output_type": "stream",
     "text": [
      "Top 5 recommended businesses for Alex based on latent factor model are:\n",
      "Papi's Cuban & Caribbean Grill: 1.1905064199911006\n",
      "Loca Luna: 0.8762545708302192\n",
      "Farm Burger: 0.8578263876279587\n",
      "Seven Lamps: 0.8179473119616172\n",
      "Piece of Cake: 0.2993543937609191\n"
     ]
    }
   ],
   "source": [
    "from scipy.linalg import svd\n",
    "R = user_business_df.values.astype(float)\n",
    "U, sigma, VT = svd(R, full_matrices=False)\n",
    "\n",
    "k = 10\n",
    "U_k = U[:, :k]\n",
    "sigma_k = np.diag(sigma[:k])\n",
    "VT_k = VT[:k, :]\n",
    "\n",
    "R_star = np.dot(U_k, np.dot(sigma_k, VT_k))\n",
    "\n",
    "alex_ratings = R_star[3, :100]\n",
    "top_indices = np.argsort(alex_ratings)[-5:][::-1] \n",
    "top_scores = alex_ratings[top_indices]\n",
    "top_businesses = business_names.iloc[top_indices].values.flatten()\n",
    "\n",
    "print(\"Top 5 recommended businesses for Alex based on latent factor model are:\")\n",
    "for business, score in zip(top_businesses, top_scores):\n",
    "    print(f\"{business}: {score}\")"
   ]
  },
  {
   "cell_type": "markdown",
   "metadata": {},
   "source": []
  },
  {
   "cell_type": "markdown",
   "metadata": {},
   "source": [
    "From the R* matrix, select the top 5 businesses for Alex in S (first 100 businesses). Again, hand in the names of the businesses and their similarity score.\n",
    "\n",
    "Answer with their similarity score:\n",
    "Papi's Cuban & Caribbean Grill: 1.1905064199911006\n",
    "Loca Luna: 0.8762545708302192\n",
    "Farm Burger: 0.8578263876279587\n",
    "Seven Lamps: 0.8179473119616172\n",
    "Piece of Cake: 0.2993543937609191"
   ]
  }
 ],
 "metadata": {
  "kernelspec": {
   "display_name": "Python 3 (ipykernel)",
   "language": "python",
   "name": "python3"
  },
  "language_info": {
   "codemirror_mode": {
    "name": "ipython",
    "version": 3
   },
   "file_extension": ".py",
   "mimetype": "text/x-python",
   "name": "python",
   "nbconvert_exporter": "python",
   "pygments_lexer": "ipython3",
   "version": "3.11.4"
  }
 },
 "nbformat": 4,
 "nbformat_minor": 2
}
