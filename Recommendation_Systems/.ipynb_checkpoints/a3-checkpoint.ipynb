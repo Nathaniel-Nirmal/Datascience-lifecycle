{
 "cells": [
  {
   "cell_type": "code",
   "execution_count": 1,
   "metadata": {},
   "outputs": [],
   "source": [
    "import pandas as pd\n",
    "import numpy as np\n",
    "from sklearn.metrics.pairwise import cosine_similarity"
   ]
  },
  {
   "cell_type": "code",
   "execution_count": 37,
   "metadata": {},
   "outputs": [
    {
     "name": "stdout",
     "output_type": "stream",
     "text": [
      "Top 5 recommended businesses for Alex are:\n",
      "Papi's Cuban & Caribbean Grill: 43.040\n",
      "Seven Lamps: 33.598\n",
      "Loca Luna: 33.263\n",
      "Farm Burger: 32.783\n",
      "Piece of Cake: 12.626\n"
     ]
    }
   ],
   "source": [
    "user_business_path = 'data/user-business.csv'\n",
    "business_path = 'data/business.csv'\n",
    "\n",
    "user_business_df = pd.read_csv(user_business_path, header=None)\n",
    "business_names = pd.read_csv(business_path, header=None)\n",
    "\n",
    "alex_ratings = user_business_df.iloc[3, 100:].values \n",
    "other_users = user_business_df.drop(3, axis=0)\n",
    "\n",
    "cos_sim = cosine_similarity(other_users.iloc[:, 100:], [alex_ratings])\n",
    "rAlex_b = np.dot(cos_sim.T, other_users.iloc[:, :100]).flatten()\n",
    "\n",
    "top_indices = np.argsort(rAlex_b)[::-1][:5]\n",
    "top_scores = rAlex_b[top_indices] \n",
    "\n",
    "top_businesses = business_names.iloc[top_indices].values.flatten()\n",
    "\n",
    "print(\"Top 5 recommended businesses for Alex are:\")\n",
    "for business, score in zip(top_businesses, top_scores):\n",
    "    print(f\"{business}: {score:.3f}\")"
   ]
  },
  {
   "cell_type": "code",
   "execution_count": 38,
   "metadata": {},
   "outputs": [
    {
     "name": "stdout",
     "output_type": "stream",
     "text": [
      "Top 5 recommended businesses for Alex based on item-item similarity are:\n",
      "Papi's Cuban & Caribbean Grill: 6.811\n",
      "Farm Burger: 6.559\n",
      "Seven Lamps: 6.440\n",
      "Loca Luna: 5.853\n",
      "Piece of Cake: 3.730\n"
     ]
    }
   ],
   "source": [
    "R = user_business_df.values\n",
    "alex_ratings = R[3, :] \n",
    "R_no_alex = np.delete(R, 3, axis=0)\n",
    "business_similarities = cosine_similarity(R_no_alex.T)  # Transpose to get business-business matrix\n",
    "\n",
    "rAlex_b = np.zeros(100)\n",
    "for b in range(100):\n",
    "    rAlex_b[b] = np.dot(business_similarities[b], alex_ratings * (alex_ratings > 0))  # Only consider businesses Alex rated\n",
    "\n",
    "top_indices = np.argsort(rAlex_b)[::-1][:5]\n",
    "top_scores = rAlex_b[top_indices] \n",
    "top_businesses = business_names.iloc[top_indices].values.flatten()\n",
    "\n",
    "print(\"Top 5 recommended businesses for Alex based on item-item similarity are:\")\n",
    "for business, score in zip(top_businesses, top_scores):\n",
    "    print(f\"{business}: {score:.3f}\")"
   ]
  },
  {
   "cell_type": "code",
   "execution_count": 35,
   "metadata": {},
   "outputs": [],
   "source": [
    "from scipy.linalg import svd"
   ]
  },
  {
   "cell_type": "code",
   "execution_count": 41,
   "metadata": {},
   "outputs": [
    {
     "name": "stdout",
     "output_type": "stream",
     "text": [
      "Top 5 recommended businesses for Alex based on latent factor model are:\n",
      "Papi's Cuban & Caribbean Grill: 1.1905064199911006\n",
      "Loca Luna: 0.8762545708302192\n",
      "Farm Burger: 0.8578263876279587\n",
      "Seven Lamps: 0.8179473119616172\n",
      "Piece of Cake: 0.2993543937609191\n"
     ]
    }
   ],
   "source": [
    "R = user_business_df.values.astype(float)\n",
    "U, sigma, VT = svd(R, full_matrices=False)\n",
    "\n",
    "k = 10\n",
    "U_k = U[:, :k]\n",
    "sigma_k = np.diag(sigma[:k])\n",
    "VT_k = VT[:k, :]\n",
    "\n",
    "R_star = np.dot(U_k, np.dot(sigma_k, VT_k))\n",
    "\n",
    "alex_ratings = R_star[3, :100]\n",
    "top_indices = np.argsort(alex_ratings)[-5:][::-1] \n",
    "top_scores = alex_ratings[top_indices]\n",
    "top_businesses = business_names.iloc[top_indices].values.flatten()\n",
    "\n",
    "print(\"Top 5 recommended businesses for Alex based on latent factor model are:\")\n",
    "for business, score in zip(top_businesses, top_scores):\n",
    "    print(f\"{business}: {score}\")"
   ]
  },
  {
   "cell_type": "code",
   "execution_count": null,
   "metadata": {},
   "outputs": [],
   "source": []
  }
 ],
 "metadata": {
  "kernelspec": {
   "display_name": "Python 3 (ipykernel)",
   "language": "python",
   "name": "python3"
  },
  "language_info": {
   "codemirror_mode": {
    "name": "ipython",
    "version": 3
   },
   "file_extension": ".py",
   "mimetype": "text/x-python",
   "name": "python",
   "nbconvert_exporter": "python",
   "pygments_lexer": "ipython3",
   "version": "3.11.4"
  }
 },
 "nbformat": 4,
 "nbformat_minor": 2
}
