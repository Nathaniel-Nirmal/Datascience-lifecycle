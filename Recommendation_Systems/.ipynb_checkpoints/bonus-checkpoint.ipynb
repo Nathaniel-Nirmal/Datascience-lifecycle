{
 "cells": [
  {
   "cell_type": "markdown",
   "metadata": {},
   "source": [
    "**Part D: Bonus**\n",
    "\n",
    "At the top of the notebook, add brief write-ups to explain each predictor you used and how you combined them.\n",
    "\n",
    "Answer: The following are the predictors used:\n",
    "1. **User-User recommendation predictor**: Works based on User similarities and user's own ratings\n",
    "2. **Item-Item recommendation predictor**: Works based on business similarities and user's own ratings\n",
    "3. **Latent hidden model recommendation predictor**: It uses Singular Value Decomposition (SVD)\n",
    "\n",
    "I have used an ensemble recommender system using the above 3 predictors. The final output directly combines the outputs from the three models (averaging their scores) and uses this to determine whether to recommend a business (0 or 1) based on a percentile threshold."
   ]
  },
  {
   "cell_type": "code",
   "execution_count": null,
   "metadata": {},
   "outputs": [],
   "source": [
    "import pandas as pd\n",
    "import numpy as np\n",
    "from sklearn.metrics import f1_score, pairwise\n",
    "from scipy.linalg import svd\n",
    "\n",
    "# Load the data\n",
    "user_business_train_path = 'data/user-business.csv'\n",
    "user_business_test_path = 'data/bonus/user-business_test.csv'\n",
    "business_path = 'data/business.csv'\n",
    "\n",
    "train_df = pd.read_csv(user_business_train_path, header=None)\n",
    "test_df = pd.read_csv(user_business_test_path, header=None)\n",
    "business_names = pd.read_csv(business_path, header=None)\n",
    "\n",
    "\n",
    "def generate_predictions(test_user_ratings, train_data):\n",
    "    # User-User Recommender System: Calculate similarities with all users in the training set\n",
    "    cos_sim = pairwise.cosine_similarity(train_data[:, 100:], test_user_ratings[:, 100:]) \n",
    "    user_predictions = np.dot(cos_sim.T, train_data[:, :100])\n",
    "\n",
    "    # Item-Item Recommender System\n",
    "    business_similarities = pairwise.cosine_similarity(train_data[:, :100].T, train_data[:, 100:].T)  # Similarity between first 100 businesses and businesses 101-1000\n",
    "    item_predictions = np.dot(test_user_ratings[:, 100:], business_similarities.T)\n",
    "\n",
    "    # Latent Factor Model\n",
    "    U, sigma, VT = svd(train_data, full_matrices=False)\n",
    "    k = 10  # Number of latent factors\n",
    "    U_k = U[:, :k]\n",
    "    sigma_k = np.diag(sigma[:k])\n",
    "    VT_k = VT[:k, :]\n",
    "    all_ratings = np.dot(U_k, np.dot(sigma_k, VT_k))  # Full predictions\n",
    "    all_predictions = all_ratings[test_df.index, :100]\n",
    "\n",
    "    print(all_predictions.shape)\n",
    "\n",
    "    #Average predictions from different models\n",
    "    combined_predictions = (user_predictions + item_predictions + all_predictions) / 3\n",
    "    return combined_predictions"
   ]
  },
  {
   "cell_type": "code",
   "execution_count": 34,
   "metadata": {},
   "outputs": [
    {
     "name": "stdout",
     "output_type": "stream",
     "text": [
      "(5, 100)\n"
     ]
    }
   ],
   "source": [
    "predictions = generate_predictions(test_df.values, train_df.values)\n",
    "\n",
    "# Threshold predictions to get binary values (0s and 1s)\n",
    "# Since the dataset is sparse, using the 95th percentile as a threshold to decide on 1s might be a good starting point\n",
    "final_predictions = (predictions > np.percentile(predictions, 95, axis=1)[:, None]).astype(int)\n",
    "\n",
    "submission_df = pd.DataFrame(final_predictions, dtype=int)\n",
    "submission_df.to_csv('sample_bonus_submission.csv', header=False, index=False)"
   ]
  },
  {
   "cell_type": "code",
   "execution_count": null,
   "metadata": {},
   "outputs": [],
   "source": []
  }
 ],
 "metadata": {
  "kernelspec": {
   "display_name": "Python 3 (ipykernel)",
   "language": "python",
   "name": "python3"
  },
  "language_info": {
   "codemirror_mode": {
    "name": "ipython",
    "version": 3
   },
   "file_extension": ".py",
   "mimetype": "text/x-python",
   "name": "python",
   "nbconvert_exporter": "python",
   "pygments_lexer": "ipython3",
   "version": "3.11.4"
  }
 },
 "nbformat": 4,
 "nbformat_minor": 2
}
